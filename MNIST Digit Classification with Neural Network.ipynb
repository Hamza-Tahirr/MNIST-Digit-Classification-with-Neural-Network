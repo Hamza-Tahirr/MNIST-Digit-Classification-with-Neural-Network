{
 "cells": [
  {
   "cell_type": "markdown",
   "id": "099cc973",
   "metadata": {},
   "source": [
    "# Importing the Depedencies:"
   ]
  },
  {
   "cell_type": "code",
   "execution_count": 4,
   "id": "4eb2e04f",
   "metadata": {},
   "outputs": [],
   "source": [
    "import numpy as np               #FOR CONVERTING IMAGES IN ARRAYS\n",
    "import matplotlib.pyplot as plt  #FOR VISUALIZATION\n",
    "import seaborn as sns            #FOR VISUALIZATION\n",
    "import cv2                       #Image processing \n",
    "from PIL import Image            #Image processing\n",
    "import tensorflow as tf          #Deep learning library\n",
    "tf.random.set_seed(3)            #For random set or random 3 values\n",
    "from tensorflow import keras     #\n",
    "from keras.datasets import mnist \n",
    "from tensorflow.math import confusion_matrix"
   ]
  },
  {
   "cell_type": "code",
   "execution_count": null,
   "id": "26d670f8",
   "metadata": {},
   "outputs": [],
   "source": []
  },
  {
   "cell_type": "code",
   "execution_count": null,
   "id": "684cd064",
   "metadata": {},
   "outputs": [],
   "source": []
  },
  {
   "cell_type": "code",
   "execution_count": 2,
   "id": "72017191",
   "metadata": {},
   "outputs": [],
   "source": [
    "import warnings\n",
    "warnings.filterwarnings('ignore')"
   ]
  }
 ],
 "metadata": {
  "kernelspec": {
   "display_name": "Python 3 (ipykernel)",
   "language": "python",
   "name": "python3"
  },
  "language_info": {
   "codemirror_mode": {
    "name": "ipython",
    "version": 3
   },
   "file_extension": ".py",
   "mimetype": "text/x-python",
   "name": "python",
   "nbconvert_exporter": "python",
   "pygments_lexer": "ipython3",
   "version": "3.9.12"
  }
 },
 "nbformat": 4,
 "nbformat_minor": 5
}
