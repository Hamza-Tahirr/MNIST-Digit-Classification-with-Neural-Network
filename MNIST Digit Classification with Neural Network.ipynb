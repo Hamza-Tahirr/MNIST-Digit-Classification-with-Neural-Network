{
 "cells": [
  {
   "cell_type": "markdown",
   "id": "099cc973",
   "metadata": {},
   "source": [
    "# Importing the Depedencies:"
   ]
  },
  {
   "cell_type": "code",
   "execution_count": 1,
   "id": "4eb2e04f",
   "metadata": {},
   "outputs": [],
   "source": [
    "import numpy as np               #FOR CONVERTING IMAGES IN ARRAYS\n",
    "import matplotlib.pyplot as plt  #FOR VISUALIZATION\n",
    "import seaborn as sns            #FOR VISUALIZATION\n",
    "import cv2                       #Image processing \n",
    "from PIL import Image            #Image processing\n",
    "import tensorflow as tf          #Deep learning library\n",
    "tf.random.set_seed(3)            #For random set or random 3 values\n",
    "from tensorflow import keras     #google based library \n",
    "from keras.datasets import mnist #dataset inbuild\n",
    "from tensorflow.math import confusion_matrix \n",
    "import warnings\n",
    "warnings.filterwarnings('ignore')"
   ]
  },
  {
   "cell_type": "markdown",
   "id": "1f07f1e8",
   "metadata": {},
   "source": [
    "# Data Collection MNIST DATA from keras.datasets"
   ]
  },
  {
   "cell_type": "code",
   "execution_count": 4,
   "id": "684cd064",
   "metadata": {},
   "outputs": [
    {
     "name": "stdout",
     "output_type": "stream",
     "text": [
      "Downloading data from https://storage.googleapis.com/tensorflow/tf-keras-datasets/mnist.npz\n",
      "11490434/11490434 [==============================] - 9s 1us/step\n"
     ]
    }
   ],
   "source": [
    "(X_train, Y_train),(X_test, Y_test) = mnist.load_data()"
   ]
  },
  {
   "cell_type": "code",
   "execution_count": 5,
   "id": "72017191",
   "metadata": {},
   "outputs": [
    {
     "data": {
      "text/plain": [
       "numpy.ndarray"
      ]
     },
     "execution_count": 5,
     "metadata": {},
     "output_type": "execute_result"
    }
   ],
   "source": [
    "type(X_train)"
   ]
  },
  {
   "cell_type": "markdown",
   "id": "ac69ae83",
   "metadata": {},
   "source": [
    "## Shape of numpy arrays or our data"
   ]
  },
  {
   "cell_type": "code",
   "execution_count": 8,
   "id": "bcd37caf",
   "metadata": {},
   "outputs": [
    {
     "name": "stdout",
     "output_type": "stream",
     "text": [
      "(60000, 28, 28) (60000,) (10000, 28, 28) (10000,)\n"
     ]
    }
   ],
   "source": [
    "print(X_train.shape, Y_train.shape, X_test.shape, Y_test.shape)"
   ]
  },
  {
   "cell_type": "markdown",
   "id": "6f0ae1bc",
   "metadata": {},
   "source": [
    "**Training Data = 60000 images**\n",
    "\n",
    "**Test Data = 10000 images**\n",
    "\n",
    "**Image dimension --> 28 x 28**\n",
    "\n",
    "**Grayscale Image --> 1 channel**"
   ]
  },
  {
   "cell_type": "code",
   "execution_count": null,
   "id": "6e98536d",
   "metadata": {},
   "outputs": [],
   "source": []
  }
 ],
 "metadata": {
  "kernelspec": {
   "display_name": "Python 3 (ipykernel)",
   "language": "python",
   "name": "python3"
  },
  "language_info": {
   "codemirror_mode": {
    "name": "ipython",
    "version": 3
   },
   "file_extension": ".py",
   "mimetype": "text/x-python",
   "name": "python",
   "nbconvert_exporter": "python",
   "pygments_lexer": "ipython3",
   "version": "3.9.12"
  }
 },
 "nbformat": 4,
 "nbformat_minor": 5
}
